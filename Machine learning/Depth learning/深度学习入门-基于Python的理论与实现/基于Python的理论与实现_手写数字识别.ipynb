{
 "cells": [
  {
   "cell_type": "markdown",
   "metadata": {},
   "source": [
    "# 手写数字识别"
   ]
  },
  {
   "attachments": {
    "MNIST.png": {
     "image/png": "[encoded data removed]"
    }
   },
   "cell_type": "markdown",
   "metadata": {},
   "source": [
    "和求解机器学习问题的步骤（分成学习和推理两个阶段进行）一样，使用神经网络解决问题时，也需要首先使用训练数据（学习数据）进行权重参数的学习；进行推理时，使用刚才学习到的参数，对输入数据进行分类。\n",
    "\n",
    "MNIST 数据集\n",
    "\n",
    "* MNIST是机器学习领域最有名的数据集之一，被应用于从简单的实验到发表的论文研究等各种场合。MNIST数据集是由0 到9 的数字图像构成的（图3-24）。训练图像有6 万张，测试图像有1 万张，这些图像可以用于学习和推理。\n",
    "* MNIST数据集的一般使用方法是，先用训练图像进行学习，再用学习到的模型度量能在多大程度上对测试图像进行正确的分类。\n",
    "* MNIST的图像数据是28 像素× 28 像素的灰度图像（1 通道），各个像素的取值在0 到255 之间。每个图像数据都相应地标有“7”“2”“1”等标签。\n",
    "\n",
    "![MNIST.png](attachment:MNIST.png)\n",
    "\n",
    "\n",
    "MNIST 数据集 [下载地址](http://yann.lecun.com/exdb/mnist/ \"MNIST数据集\")\n",
    "\n",
    "4个压缩包\n",
    "* train-images-idx3-ubyte.gz:  training set images\n",
    "* train-labels-idx1-ubyte.gz:  training set labels \n",
    "* t10k-images-idx3-ubyte.gz:   test set images\n",
    "* t10k-labels-idx1-ubyte.gz:   test set labels\n",
    "\n",
    "数据格式  \n",
    "TRAINING SET LABEL FILE (train-labels-idx1-ubyte):  \n",
    "[offset] [type]          [value]          [description]   \n",
    "0000     32 bit integer  0x00000801(2049) magic number (MSB first)   \n",
    "0004     32 bit integer  60000            number of items   \n",
    "0008     unsigned byte   ??               label   \n",
    "0009     unsigned byte   ??               label   \n",
    "........   \n",
    "xxxx     unsigned byte   ??               label  \n",
    "The labels values are 0 to 9.  \n",
    "  \n",
    "TRAINING SET IMAGE FILE (train-images-idx3-ubyte):  \n",
    "[offset] [type]          [value]          [description]   \n",
    "0000     32 bit integer  0x00000803(2051) magic number   \n",
    "0004     32 bit integer  60000            number of images   \n",
    "0008     32 bit integer  28               number of rows   \n",
    "0012     32 bit integer  28               number of columns   \n",
    "0016     unsigned byte   ??               pixel   \n",
    "0017     unsigned byte   ??               pixel   \n",
    "........   \n",
    "xxxx     unsigned byte   ??               pixel  \n",
    "Pixels are organized row-wise. Pixel values are 0 to 255. 0 means background (white), 255 means foreground (black).  \n",
    "  \n",
    "TEST SET LABEL FILE (t10k-labels-idx1-ubyte):  \n",
    "[offset] [type]          [value]          [description]   \n",
    "0000     32 bit integer  0x00000801(2049) magic number (MSB first)   \n",
    "0004     32 bit integer  10000            number of items   \n",
    "0008     unsigned byte   ??               label   \n",
    "0009     unsigned byte   ??               label   \n",
    "........   \n",
    "xxxx     unsigned byte   ??               label  \n",
    "The labels values are 0 to 9.  \n",
    "\n",
    "TEST SET IMAGE FILE (t10k-images-idx3-ubyte):  \n",
    "[offset] [type]          [value]          [description]   \n",
    "0000     32 bit integer  0x00000803(2051) magic number   \n",
    "0004     32 bit integer  10000            number of images   \n",
    "0008     32 bit integer  28               number of rows   \n",
    "0012     32 bit integer  28               number of columns   \n",
    "0016     unsigned byte   ??               pixel   \n",
    "0017     unsigned byte   ??               pixel   \n",
    "........   \n",
    "xxxx     unsigned byte   ??               pixel  \n",
    "Pixels are organized row-wise. Pixel values are 0 to 255. 0 means background (white), 255 means foreground (black).  \n",
    "\n",
    " "
   ]
  },
  {
   "cell_type": "markdown",
   "metadata": {},
   "source": [
    "神经网络的框架定义：\n",
    "\n",
    "* 输入层有784 个神经元。输入层的784 这个数字来源于图像大小的28 × 28 = 784。\n",
    "* 输出层有10 个神经元。输出层的10 这个数字来源于10 类别分类（数字0 到9，共10 类别）。\n",
    "* 2个隐藏层。第1个隐藏层有50个神经元，第2个隐藏层有100个神经元。这个50 和100 可以设置为任何值。"
   ]
  },
  {
   "cell_type": "markdown",
   "metadata": {},
   "source": [
    "省略了下载相关的代码处理, 压缩包和代码在同一目录下。\n",
    "\n",
    "读取zip包数据接口 data.py"
   ]
  },
  {
   "cell_type": "code",
   "execution_count": 2,
   "metadata": {},
   "outputs": [
    {
     "ename": "NameError",
     "evalue": "name '__file__' is not defined",
     "output_type": "error",
     "traceback": [
      "\u001b[1;31m---------------------------------------------------------------------------\u001b[0m",
      "\u001b[1;31mNameError\u001b[0m                                 Traceback (most recent call last)",
      "\u001b[1;32m<ipython-input-2-2766d97e18ae>\u001b[0m in \u001b[0;36m<module>\u001b[1;34m()\u001b[0m\n\u001b[0;32m     13\u001b[0m }\n\u001b[0;32m     14\u001b[0m \u001b[1;33m\u001b[0m\u001b[0m\n\u001b[1;32m---> 15\u001b[1;33m \u001b[0mdataset_dir\u001b[0m \u001b[1;33m=\u001b[0m \u001b[0mos\u001b[0m\u001b[1;33m.\u001b[0m\u001b[0mpath\u001b[0m\u001b[1;33m.\u001b[0m\u001b[0mdirname\u001b[0m\u001b[1;33m(\u001b[0m\u001b[0mos\u001b[0m\u001b[1;33m.\u001b[0m\u001b[0mpath\u001b[0m\u001b[1;33m.\u001b[0m\u001b[0mabspath\u001b[0m\u001b[1;33m(\u001b[0m\u001b[0m__file__\u001b[0m\u001b[1;33m)\u001b[0m\u001b[1;33m)\u001b[0m\u001b[1;33m\u001b[0m\u001b[0m\n\u001b[0m\u001b[0;32m     16\u001b[0m \u001b[0msave_file\u001b[0m \u001b[1;33m=\u001b[0m \u001b[0mdataset_dir\u001b[0m \u001b[1;33m+\u001b[0m \u001b[1;34m\"/mnist.pkl\"\u001b[0m\u001b[1;33m\u001b[0m\u001b[0m\n\u001b[0;32m     17\u001b[0m \u001b[1;32mprint\u001b[0m\u001b[1;33m(\u001b[0m\u001b[1;34m\"save file: \"\u001b[0m\u001b[1;33m,\u001b[0m \u001b[0msave_file\u001b[0m\u001b[1;33m)\u001b[0m\u001b[1;33m\u001b[0m\u001b[0m\n",
      "\u001b[1;31mNameError\u001b[0m: name '__file__' is not defined"
     ]
    }
   ],
   "source": [
    "# coding: utf-8\n",
    "import os.path\n",
    "import gzip\n",
    "import pickle\n",
    "import os\n",
    "import numpy as np\n",
    "\n",
    "key_file = {\n",
    "    'train_img':'train-images-idx3-ubyte.gz',\n",
    "    'train_label':'train-labels-idx1-ubyte.gz',\n",
    "    'test_img':'t10k-images-idx3-ubyte.gz',\n",
    "    'test_label':'t10k-labels-idx1-ubyte.gz'\n",
    "}\n",
    "\n",
    "dataset_dir = os.path.dirname(os.path.abspath(__file__))\n",
    "save_file = dataset_dir + \"/mnist.pkl\"\n",
    "print(\"save file: \", save_file)\n",
    "\n",
    "train_num = 60000\n",
    "test_num = 10000\n",
    "img_dim = (1, 28, 28)\n",
    "img_size = 784\n",
    "\n",
    "def _load_label(file_name):\n",
    "    file_path = dataset_dir + \"/\" + file_name\n",
    "    print(\"Converting \" + file_name + \" to NumPy Array ...\")\n",
    "    with gzip.open(file_path, 'rb') as f:\n",
    "            labels = np.frombuffer(f.read(), np.uint8, offset=8)\n",
    "    print(\"Done\")\n",
    "    return labels\n",
    "\n",
    "def _load_img(file_name):\n",
    "    file_path = dataset_dir + \"/\" + file_name\n",
    "    print(\"Converting \" + file_name + \" to NumPy Array ...\")\n",
    "    with gzip.open(file_path, 'rb') as f:\n",
    "            data = np.frombuffer(f.read(), np.uint8, offset=16)\n",
    "    data = data.reshape(-1, img_size)\n",
    "    print(\"Done\")\n",
    "    return data\n",
    "\n",
    "def _convert_numpy():\n",
    "    dataset = {}\n",
    "    dataset['train_img'] =  _load_img(key_file['train_img'])\n",
    "    dataset['train_label'] = _load_label(key_file['train_label'])\n",
    "    dataset['test_img'] = _load_img(key_file['test_img'])\n",
    "    dataset['test_label'] = _load_label(key_file['test_label'])\n",
    "    return dataset\n",
    "\n",
    "def load_mnist(normalize=True, flatten=True, one_hot_label=False):\n",
    "    with open(save_file, 'rb') as f:\n",
    "        dataset = pickle.load(f)\n",
    "\n",
    "    if normalize:\n",
    "        for key in ('train_img', 'test_img'):\n",
    "            dataset[key] = dataset[key].astype(np.float32)\n",
    "            dataset[key] /= 255.0\n",
    "\n",
    "    if one_hot_label:\n",
    "        dataset['train_label'] = _change_one_hot_label(dataset['train_label'])\n",
    "        dataset['test_label'] = _change_one_hot_label(dataset['test_label'])\n",
    "\n",
    "    if not flatten:\n",
    "         for key in ('train_img', 'test_img'):\n",
    "            dataset[key] = dataset[key].reshape(-1, 1, 28, 28)\n",
    "\n",
    "    return (dataset['train_img'], dataset['train_label']), (dataset['test_img'], dataset['test_label'])\n",
    "\n",
    "def get_test_data():\n",
    "    (x_train, t_train), (x_test, t_test) = load_mnist(normalize=True, flatten=True, one_hot_label=False)\n",
    "    return x_test, t_test\n",
    "\n",
    "def init_network():\n",
    "    with open(\"sample_weight.pkl\", 'rb') as f:\n",
    "        network = pickle.load(f)\n",
    "    print(\"init_network Done!\")\n",
    "    return network\n",
    "\n",
    "def init_data():\n",
    "    dataset = _convert_numpy()\n",
    "    print(\"Creating pickle file ...\")\n",
    "    with open(save_file, 'wb') as f:\n",
    "        pickle.dump(dataset, f, -1)\n",
    "    print(\"init_data Done!\")"
   ]
  },
  {
   "cell_type": "markdown",
   "metadata": {},
   "source": [
    "softmax.py\n"
   ]
  },
  {
   "cell_type": "code",
   "execution_count": 3,
   "metadata": {},
   "outputs": [],
   "source": [
    "# coding: utf-8\n",
    "import numpy as np\n",
    "\n",
    "def softmax(a):\n",
    "    c = np.max(a)\n",
    "    exp_a = np.exp(a - c) # 溢出对策\n",
    "    sum_exp_a = np.sum(exp_a)\n",
    "    y = exp_a / sum_exp_a\n",
    "    return y"
   ]
  },
  {
   "cell_type": "markdown",
   "metadata": {},
   "source": [
    "sigmoid.py"
   ]
  },
  {
   "cell_type": "code",
   "execution_count": 4,
   "metadata": {},
   "outputs": [],
   "source": [
    "# coding: utf-8\n",
    "import numpy as np\n",
    "\n",
    "def sigmoid(x):\n",
    "    return 1 / (1 + np.exp(-x))"
   ]
  },
  {
   "cell_type": "markdown",
   "metadata": {},
   "source": [
    "mnist.py\n"
   ]
  },
  {
   "cell_type": "code",
   "execution_count": 5,
   "metadata": {},
   "outputs": [
    {
     "ename": "ImportError",
     "evalue": "No module named sigmoid",
     "output_type": "error",
     "traceback": [
      "\u001b[1;31m---------------------------------------------------------------------------\u001b[0m",
      "\u001b[1;31mImportError\u001b[0m                               Traceback (most recent call last)",
      "\u001b[1;32m<ipython-input-5-92e70d19b4c5>\u001b[0m in \u001b[0;36m<module>\u001b[1;34m()\u001b[0m\n\u001b[0;32m      5\u001b[0m \u001b[1;32mimport\u001b[0m \u001b[0mos\u001b[0m\u001b[1;33m\u001b[0m\u001b[0m\n\u001b[0;32m      6\u001b[0m \u001b[1;32mimport\u001b[0m \u001b[0mnumpy\u001b[0m \u001b[1;32mas\u001b[0m \u001b[0mnp\u001b[0m\u001b[1;33m\u001b[0m\u001b[0m\n\u001b[1;32m----> 7\u001b[1;33m \u001b[1;32mfrom\u001b[0m \u001b[0msigmoid\u001b[0m \u001b[1;32mimport\u001b[0m \u001b[1;33m*\u001b[0m\u001b[1;33m\u001b[0m\u001b[0m\n\u001b[0m\u001b[0;32m      8\u001b[0m \u001b[1;32mfrom\u001b[0m \u001b[0msoftmax\u001b[0m \u001b[1;32mimport\u001b[0m \u001b[1;33m*\u001b[0m\u001b[1;33m\u001b[0m\u001b[0m\n\u001b[0;32m      9\u001b[0m \u001b[1;32mfrom\u001b[0m \u001b[0mdata\u001b[0m \u001b[1;32mimport\u001b[0m \u001b[1;33m*\u001b[0m\u001b[1;33m\u001b[0m\u001b[0m\n",
      "\u001b[1;31mImportError\u001b[0m: No module named sigmoid"
     ]
    }
   ],
   "source": [
    "# coding: utf-8\n",
    "import os.path\n",
    "import gzip\n",
    "import pickle\n",
    "import os\n",
    "import numpy as np\n",
    "from sigmoid import *\n",
    "from softmax import *\n",
    "from data import *\n",
    "\n",
    "def init():\n",
    "    init_data()\n",
    "    print(\"init_mnist Done!\")\n",
    "\n",
    "def predict(network, x):\n",
    "    W1, W2, W3 = network['W1'], network['W2'], network['W3']\n",
    "    b1, b2, b3 = network['b1'], network['b2'], network['b3']\n",
    "    a1 = np.dot(x, W1) + b1\n",
    "    z1 = sigmoid(a1)\n",
    "    a2 = np.dot(z1, W2) + b2\n",
    "    z2 = sigmoid(a2)\n",
    "    a3 = np.dot(z2, W3) + b3\n",
    "    y = softmax(a3)\n",
    "    return y\n",
    "\n",
    "def processData():\n",
    "    x, t = get_test_data()\n",
    "    print(x.shape) # (10000, 784)\n",
    "    print(t.shape) # (10000,)\n",
    "    network = init_network() #sample_weight.pkl\n",
    "    accuracy_cnt = 0\n",
    "\n",
    "    W1, W2, W3 = network['W1'], network['W2'], network['W3']\n",
    "    b1, b2, b3 = network['b1'], network['b2'], network['b3']\n",
    "    print(\"shape W1~W3: \", W1.shape,W2.shape,W3.shape)\n",
    "    print(\"shape b1~b3: \", b1.shape,b2.shape,b3.shape)\n",
    "\n",
    "    for i in range(len(x)):\n",
    "        y = predict(network, x[i])\n",
    "        p= np.argmax(y) # 获取概率最高的元素的索引\n",
    "        if p == t[i]:\n",
    "            accuracy_cnt += 1\n",
    "    print(\"Accuracy:\" + str(float(accuracy_cnt) / len(x)))\n",
    "\n",
    "if __name__ == '__main__':\n",
    "    init()\n",
    "    processData()"
   ]
  },
  {
   "cell_type": "markdown",
   "metadata": {},
   "source": [
    "sample_weight.pkl 是已有文件，保存的W1，W2，W3和b1, b2, b3\n",
    "\n",
    "运行结果：Accuracy:0.9352\n",
    "\n",
    "批处理优化\n",
    "修改mnist.py中的processData(), 对循环每100个执行一次predict()\n"
   ]
  },
  {
   "cell_type": "code",
   "execution_count": 6,
   "metadata": {},
   "outputs": [
    {
     "ename": "ImportError",
     "evalue": "No module named sigmoid",
     "output_type": "error",
     "traceback": [
      "\u001b[1;31m---------------------------------------------------------------------------\u001b[0m",
      "\u001b[1;31mImportError\u001b[0m                               Traceback (most recent call last)",
      "\u001b[1;32m<ipython-input-6-dfab81dfb9ae>\u001b[0m in \u001b[0;36m<module>\u001b[1;34m()\u001b[0m\n\u001b[0;32m      5\u001b[0m \u001b[1;32mimport\u001b[0m \u001b[0mos\u001b[0m\u001b[1;33m\u001b[0m\u001b[0m\n\u001b[0;32m      6\u001b[0m \u001b[1;32mimport\u001b[0m \u001b[0mnumpy\u001b[0m \u001b[1;32mas\u001b[0m \u001b[0mnp\u001b[0m\u001b[1;33m\u001b[0m\u001b[0m\n\u001b[1;32m----> 7\u001b[1;33m \u001b[1;32mfrom\u001b[0m \u001b[0msigmoid\u001b[0m \u001b[1;32mimport\u001b[0m \u001b[1;33m*\u001b[0m\u001b[1;33m\u001b[0m\u001b[0m\n\u001b[0m\u001b[0;32m      8\u001b[0m \u001b[1;32mfrom\u001b[0m \u001b[0msoftmax\u001b[0m \u001b[1;32mimport\u001b[0m \u001b[1;33m*\u001b[0m\u001b[1;33m\u001b[0m\u001b[0m\n\u001b[0;32m      9\u001b[0m \u001b[1;32mfrom\u001b[0m \u001b[0mdata\u001b[0m \u001b[1;32mimport\u001b[0m \u001b[1;33m*\u001b[0m\u001b[1;33m\u001b[0m\u001b[0m\n",
      "\u001b[1;31mImportError\u001b[0m: No module named sigmoid"
     ]
    }
   ],
   "source": [
    "# coding: utf-8\n",
    "import os.path\n",
    "import gzip\n",
    "import pickle\n",
    "import os\n",
    "import numpy as np\n",
    "from sigmoid import *\n",
    "from softmax import *\n",
    "from data import *\n",
    "\n",
    "def init():\n",
    "    init_data()\n",
    "    print(\"init_mnist Done!\")\n",
    "\n",
    "def predict(network, x):\n",
    "    W1, W2, W3 = network['W1'], network['W2'], network['W3']\n",
    "    b1, b2, b3 = network['b1'], network['b2'], network['b3']\n",
    "    a1 = np.dot(x, W1) + b1\n",
    "    z1 = sigmoid(a1)\n",
    "    a2 = np.dot(z1, W2) + b2\n",
    "    z2 = sigmoid(a2)\n",
    "    a3 = np.dot(z2, W3) + b3\n",
    "    y = softmax(a3)\n",
    "    return y\n",
    "\n",
    "def processData():\n",
    "    x, t = get_test_data()\n",
    "    print(x.shape) # (10000, 784)\n",
    "    print(t.shape) # (10000,)\n",
    "    network = init_network() #sample_weight.pkl\n",
    "    accuracy_cnt = 0\n",
    "\n",
    "    W1, W2, W3 = network['W1'], network['W2'], network['W3']\n",
    "    b1, b2, b3 = network['b1'], network['b2'], network['b3']\n",
    "    print(\"shape W1~W3: \", W1.shape,W2.shape,W3.shape)\n",
    "    print(\"shape b1~b3: \", b1.shape,b2.shape,b3.shape)\n",
    "\n",
    "    #批处理\n",
    "    batch_size = 100 # 批数量\n",
    "    for i in range(0, len(x), batch_size):\n",
    "        x_batch = x[i:i+batch_size]\n",
    "        y_batch = predict(network, x_batch)\n",
    "        p = np.argmax(y_batch, axis=1)\n",
    "        accuracy_cnt += np.sum(p == t[i:i+batch_size])\n",
    "\n",
    "    print(\"Accuracy:\" + str(float(accuracy_cnt) / len(x)))\n",
    "\n",
    "if __name__ == '__main__':\n",
    "    init()\n",
    "    processData()"
   ]
  },
  {
   "cell_type": "code",
   "execution_count": null,
   "metadata": {},
   "outputs": [],
   "source": []
  }
 ],
 "metadata": {
  "kernelspec": {
   "display_name": "Python 2",
   "language": "python",
   "name": "python2"
  },
  "language_info": {
   "codemirror_mode": {
    "name": "ipython",
    "version": 2
   },
   "file_extension": ".py",
   "mimetype": "text/x-python",
   "name": "python",
   "nbconvert_exporter": "python",
   "pygments_lexer": "ipython2",
   "version": "2.7.15"
  }
 },
 "nbformat": 4,
 "nbformat_minor": 2
}
